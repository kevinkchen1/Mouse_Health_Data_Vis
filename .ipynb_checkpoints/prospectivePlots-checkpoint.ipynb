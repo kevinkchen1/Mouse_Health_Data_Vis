{
 "cells": [
  {
   "cell_type": "code",
   "execution_count": null,
   "id": "3c9ef6da",
   "metadata": {},
   "outputs": [],
   "source": [
    "import pandas as pd\n",
    "import matplotlib.pyplot as plt"
   ]
  },
  {
   "cell_type": "code",
   "execution_count": null,
   "id": "b47fe6f9",
   "metadata": {},
   "outputs": [],
   "source": [
    "femActDf = pd.read_csv(\"Mouse_Data_Student_Copy.xlsx - Fem Act.csv\")\n",
    "femTempDf = pd.read_csv(\"Mouse_Data_Student_Copy.xlsx - Fem Temp.csv\")\n",
    "maleActDf = pd.read_csv(\"Mouse_Data_Student_Copy.xlsx - Male Act.csv\")\n",
    "maleTempDf = pd.read_csv(\"Mouse_Data_Student_Copy.xlsx - Male Temp.csv\")"
   ]
  },
  {
   "cell_type": "code",
   "execution_count": null,
   "id": "aab8779c",
   "metadata": {},
   "outputs": [],
   "source": [
    "femActDf.iloc[:5000, :7].rolling(window=50).mean().plot(figsize=(10, 6))\n",
    "plt.title('Rolling Average Plot of First 7 Females')\n",
    "plt.xlabel('Index')\n",
    "plt.ylabel('Smoothed Value')\n",
    "plt.show()"
   ]
  },
  {
   "cell_type": "code",
   "execution_count": null,
   "id": "a1c8ec5c",
   "metadata": {},
   "outputs": [],
   "source": [
    "femActDf.iloc[:5000, :].plot(kind='box', figsize=(10, 6))\n",
    "plt.title('Box Plot of Females ACT')\n",
    "plt.xlabel('Subjects')\n",
    "plt.ylabel('Value')\n",
    "plt.show()"
   ]
  },
  {
   "cell_type": "code",
   "execution_count": null,
   "id": "a6a2c0a2",
   "metadata": {},
   "outputs": [],
   "source": []
  }
 ],
 "metadata": {
  "kernelspec": {
   "display_name": "dsc80",
   "language": "python",
   "name": "python3"
  },
  "language_info": {
   "codemirror_mode": {
    "name": "ipython",
    "version": 3
   },
   "file_extension": ".py",
   "mimetype": "text/x-python",
   "name": "python",
   "nbconvert_exporter": "python",
   "pygments_lexer": "ipython3",
   "version": "3.12.8"
  }
 },
 "nbformat": 4,
 "nbformat_minor": 5
}
